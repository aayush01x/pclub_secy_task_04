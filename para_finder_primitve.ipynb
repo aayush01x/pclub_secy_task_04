{
 "cells": [
  {
   "cell_type": "code",
   "execution_count": 1,
   "metadata": {},
   "outputs": [],
   "source": [
    "import pandas as pd\n",
    "import numpy as np\n",
    "import os\n",
    "import csv\n",
    "import json\n",
    "import re"
   ]
  },
  {
   "cell_type": "code",
   "execution_count": 2,
   "metadata": {},
   "outputs": [],
   "source": [
    "paras_data = pd.read_csv('paras_mod.csv')"
   ]
  },
  {
   "cell_type": "code",
   "execution_count": 3,
   "metadata": {},
   "outputs": [
    {
     "data": {
      "text/html": [
       "<div>\n",
       "<style scoped>\n",
       "    .dataframe tbody tr th:only-of-type {\n",
       "        vertical-align: middle;\n",
       "    }\n",
       "\n",
       "    .dataframe tbody tr th {\n",
       "        vertical-align: top;\n",
       "    }\n",
       "\n",
       "    .dataframe thead th {\n",
       "        text-align: right;\n",
       "    }\n",
       "</style>\n",
       "<table border=\"1\" class=\"dataframe\">\n",
       "  <thead>\n",
       "    <tr style=\"text-align: right;\">\n",
       "      <th></th>\n",
       "      <th>id</th>\n",
       "      <th>theme</th>\n",
       "      <th>paragraph</th>\n",
       "    </tr>\n",
       "  </thead>\n",
       "  <tbody>\n",
       "    <tr>\n",
       "      <th>0</th>\n",
       "      <td>1</td>\n",
       "      <td>Zhejiang</td>\n",
       "      <td>Zhejiang (help·info), formerly romanized as C...</td>\n",
       "    </tr>\n",
       "    <tr>\n",
       "      <th>1</th>\n",
       "      <td>2</td>\n",
       "      <td>Zhejiang</td>\n",
       "      <td>The province\\'s name derives from the Zhe Rive...</td>\n",
       "    </tr>\n",
       "    <tr>\n",
       "      <th>2</th>\n",
       "      <td>3</td>\n",
       "      <td>Zhejiang</td>\n",
       "      <td>Zhejiang was the site of the Neolithic culture...</td>\n",
       "    </tr>\n",
       "    <tr>\n",
       "      <th>3</th>\n",
       "      <td>4</td>\n",
       "      <td>Zhejiang</td>\n",
       "      <td>The area of modern Zhejiang was outside the ma...</td>\n",
       "    </tr>\n",
       "    <tr>\n",
       "      <th>4</th>\n",
       "      <td>5</td>\n",
       "      <td>Zhejiang</td>\n",
       "      <td>Kuaiji Commandery was the initial power base f...</td>\n",
       "    </tr>\n",
       "  </tbody>\n",
       "</table>\n",
       "</div>"
      ],
      "text/plain": [
       "   id     theme                                          paragraph\n",
       "0   1  Zhejiang   Zhejiang (help·info), formerly romanized as C...\n",
       "1   2  Zhejiang  The province\\'s name derives from the Zhe Rive...\n",
       "2   3  Zhejiang  Zhejiang was the site of the Neolithic culture...\n",
       "3   4  Zhejiang  The area of modern Zhejiang was outside the ma...\n",
       "4   5  Zhejiang  Kuaiji Commandery was the initial power base f..."
      ]
     },
     "execution_count": 3,
     "metadata": {},
     "output_type": "execute_result"
    }
   ],
   "source": [
    "paras_data.head()"
   ]
  },
  {
   "cell_type": "code",
   "execution_count": 4,
   "metadata": {},
   "outputs": [],
   "source": [
    "def clean_text(x):\n",
    "    \n",
    "    # Replace newline characters with a space\n",
    "    new_text = str(x).replace(\"\\n\", \" \")\n",
    "    # Remove leading and trailing spaces\n",
    "    new_text = new_text.strip()\n",
    "    \n",
    "    return new_text\n",
    "\n",
    "paras_data['paragraph'] = paras_data['paragraph'].apply(clean_text)"
   ]
  },
  {
   "cell_type": "code",
   "execution_count": 5,
   "metadata": {},
   "outputs": [
    {
     "data": {
      "text/html": [
       "<div>\n",
       "<style scoped>\n",
       "    .dataframe tbody tr th:only-of-type {\n",
       "        vertical-align: middle;\n",
       "    }\n",
       "\n",
       "    .dataframe tbody tr th {\n",
       "        vertical-align: top;\n",
       "    }\n",
       "\n",
       "    .dataframe thead th {\n",
       "        text-align: right;\n",
       "    }\n",
       "</style>\n",
       "<table border=\"1\" class=\"dataframe\">\n",
       "  <thead>\n",
       "    <tr style=\"text-align: right;\">\n",
       "      <th></th>\n",
       "      <th>id</th>\n",
       "      <th>theme</th>\n",
       "      <th>paragraph</th>\n",
       "    </tr>\n",
       "  </thead>\n",
       "  <tbody>\n",
       "    <tr>\n",
       "      <th>0</th>\n",
       "      <td>1</td>\n",
       "      <td>Zhejiang</td>\n",
       "      <td>Zhejiang (help·info), formerly romanized as Ch...</td>\n",
       "    </tr>\n",
       "    <tr>\n",
       "      <th>1</th>\n",
       "      <td>2</td>\n",
       "      <td>Zhejiang</td>\n",
       "      <td>The province\\'s name derives from the Zhe Rive...</td>\n",
       "    </tr>\n",
       "    <tr>\n",
       "      <th>2</th>\n",
       "      <td>3</td>\n",
       "      <td>Zhejiang</td>\n",
       "      <td>Zhejiang was the site of the Neolithic culture...</td>\n",
       "    </tr>\n",
       "    <tr>\n",
       "      <th>3</th>\n",
       "      <td>4</td>\n",
       "      <td>Zhejiang</td>\n",
       "      <td>The area of modern Zhejiang was outside the ma...</td>\n",
       "    </tr>\n",
       "    <tr>\n",
       "      <th>4</th>\n",
       "      <td>5</td>\n",
       "      <td>Zhejiang</td>\n",
       "      <td>Kuaiji Commandery was the initial power base f...</td>\n",
       "    </tr>\n",
       "  </tbody>\n",
       "</table>\n",
       "</div>"
      ],
      "text/plain": [
       "   id     theme                                          paragraph\n",
       "0   1  Zhejiang  Zhejiang (help·info), formerly romanized as Ch...\n",
       "1   2  Zhejiang  The province\\'s name derives from the Zhe Rive...\n",
       "2   3  Zhejiang  Zhejiang was the site of the Neolithic culture...\n",
       "3   4  Zhejiang  The area of modern Zhejiang was outside the ma...\n",
       "4   5  Zhejiang  Kuaiji Commandery was the initial power base f..."
      ]
     },
     "execution_count": 5,
     "metadata": {},
     "output_type": "execute_result"
    }
   ],
   "source": [
    "paras_data.head()"
   ]
  },
  {
   "cell_type": "code",
   "execution_count": 6,
   "metadata": {},
   "outputs": [],
   "source": [
    "chunk_list = list(paras_data['paragraph'])"
   ]
  },
  {
   "cell_type": "code",
   "execution_count": 7,
   "metadata": {},
   "outputs": [
    {
     "data": {
      "text/plain": [
       "'Zhejiang (help·info), formerly romanized as Chekiang, is an eastern coastal province of China. Zhejiang is bordered by Jiangsu province and Shanghai municipality to the north, Anhui province to the northwest, Jiangxi province to the west, and Fujian province to the south; to the east is the East China Sea, beyond which lie the Ryukyu Islands of Japan.'"
      ]
     },
     "execution_count": 7,
     "metadata": {},
     "output_type": "execute_result"
    }
   ],
   "source": [
    "chunk_list[0]"
   ]
  },
  {
   "cell_type": "code",
   "execution_count": 8,
   "metadata": {},
   "outputs": [
    {
     "name": "stdout",
     "output_type": "stream",
     "text": [
      "(14756, 384)\n",
      "Embedding length 384\n"
     ]
    }
   ],
   "source": [
    "from sentence_transformers import SentenceTransformer\n",
    "\n",
    "model = SentenceTransformer(\"all-MiniLM-L6-v2\")\n",
    "\n",
    "# Sentences are encoded by calling model.encode()\n",
    "embeddings = model.encode(chunk_list)\n",
    "\n",
    "print(embeddings.shape)\n",
    "print('Embedding length', embeddings.shape[1])"
   ]
  },
  {
   "cell_type": "code",
   "execution_count": 9,
   "metadata": {},
   "outputs": [
    {
     "name": "stdout",
     "output_type": "stream",
     "text": [
      "The province\\'s name derives from the Zhe River (浙江, Zhè Jiāng), the former name of the Qiantang River which flows past Hangzhou and whose mouth forms Hangzhou Bay. It is usually glossed as meaning \\\"Crooked\\\" or \\\"Bent River\\\", from the meaning of Chinese 折, but is more likely a phono-semantic compound formed from adding 氵 (the \\\"water\\\" radical used for river names) to phonetic 折 (pinyin zhé but reconstructed Old Chinese *tet), preserving a proto-Wu name of the local Yue, similar to Yuhang, Kuaiji, and Jiang.\n",
      "[-8.04677531e-02  8.63603503e-02  6.19764142e-02  4.84340563e-02\n",
      " -7.82571509e-02 -6.26647249e-02  8.81712958e-02 -9.88816656e-03\n",
      "  1.15171820e-02 -1.01078033e-01  5.68652079e-02 -6.48170859e-02\n",
      "  1.74884666e-02 -6.79069161e-02 -8.08860958e-02  5.10492921e-02\n",
      "  1.92777032e-03  3.30825709e-02  2.60846200e-03 -5.99487908e-02\n",
      "  5.50080054e-02  3.34952325e-02  4.03454192e-02 -4.27945815e-02\n",
      "  1.89287402e-02 -8.09274428e-03 -8.99816584e-03  8.12079906e-02\n",
      "  9.86754745e-02 -1.69960235e-03 -1.81328785e-02  1.11619264e-01\n",
      " -4.66781994e-03 -8.73071316e-04  2.55815163e-02  1.15590440e-02\n",
      "  1.71532221e-02 -3.30197960e-02 -6.20219186e-02  4.07097265e-02\n",
      "  8.30447227e-02  4.79997993e-02  2.02215612e-02  1.78238507e-02\n",
      "  7.48006394e-04  5.70884869e-02  3.97560485e-02 -4.21431102e-03\n",
      " -7.38349259e-02  1.29463412e-02 -9.01152659e-03 -7.33137503e-02\n",
      " -2.93383049e-03  7.04149529e-02 -4.65667853e-03  4.75568771e-02\n",
      "  3.97150330e-02  7.24794492e-02  3.77611369e-02  8.33366364e-02\n",
      " -5.22333868e-02  5.56497946e-02 -2.49914527e-02  3.79589163e-02\n",
      " -2.02642083e-02 -1.25277983e-02 -2.19401550e-02  3.89811322e-02\n",
      "  1.90612990e-02 -4.62422557e-02  2.82494929e-02  4.26380988e-03\n",
      "  6.75992621e-03 -9.61532220e-02 -6.65872470e-02 -1.12985589e-01\n",
      " -1.76974572e-02  2.40279473e-02 -7.03633055e-02 -1.29190544e-02\n",
      " -5.51164709e-02  3.72842923e-02  4.96550910e-02 -3.73077653e-02\n",
      " -3.05776149e-02  4.60518189e-02 -2.55722157e-03 -7.02562779e-02\n",
      "  2.67655812e-02 -1.49100553e-03 -4.57039177e-02 -2.33160555e-02\n",
      "  1.19996388e-02  1.99276824e-02 -3.24977748e-03  5.42333759e-02\n",
      "  5.55471107e-02  1.55910570e-02 -2.09893119e-02 -5.87619804e-02\n",
      "  4.06892635e-02  5.61589971e-02  6.19176626e-02 -8.19359068e-03\n",
      "  4.37013619e-02 -6.00201730e-03 -4.36915830e-03 -4.23854263e-03\n",
      "  4.14641872e-02 -7.09354691e-03  1.19017772e-02 -4.76091914e-02\n",
      "  4.44629788e-02 -1.43933510e-02 -6.52474612e-02 -1.87206194e-02\n",
      " -8.62653553e-02  3.51601131e-02 -1.37951270e-01 -4.69740555e-02\n",
      " -5.21126501e-02  8.61499645e-03 -5.70538603e-02 -7.78245255e-02\n",
      " -1.79285128e-02  2.37842612e-02 -3.69947329e-02 -9.73919569e-34\n",
      "  2.18603760e-02  4.59369011e-02 -4.94770780e-02 -1.63317416e-02\n",
      " -1.61281822e-03 -1.27567336e-01  1.97137445e-02 -2.12312769e-02\n",
      " -6.74009845e-02  4.56215292e-02  7.22604394e-02 -8.43258500e-02\n",
      " -8.17186758e-02 -3.55092785e-03 -4.50865971e-03 -1.80572905e-02\n",
      " -4.57743183e-02 -1.88644901e-02  9.84589290e-03 -2.55468730e-02\n",
      "  3.57667729e-02  3.23017389e-02 -4.69454974e-02 -1.58821180e-01\n",
      " -6.02390990e-02 -5.19598871e-02  4.83956337e-02 -1.73141100e-02\n",
      " -9.51816887e-03  1.80589501e-02  1.55633362e-02 -5.83419651e-02\n",
      "  9.15309191e-02 -4.50170375e-02 -3.23978737e-02 -3.50947157e-02\n",
      "  4.88279462e-02 -4.59974632e-02 -7.24381506e-02  6.82683587e-02\n",
      "  7.55161326e-03 -1.50528299e-02 -2.54684743e-02  5.57937771e-02\n",
      "  2.24164762e-02  1.34153652e-03 -1.54891647e-02 -9.74624231e-02\n",
      "  5.66550270e-02 -7.00787604e-02 -7.46246753e-03 -6.32040724e-02\n",
      "  5.39691299e-02  1.25341520e-01 -7.00645000e-02  1.43110063e-02\n",
      "  2.97724083e-02 -3.06881350e-02 -1.01800017e-01  4.36373353e-02\n",
      " -3.35725956e-02 -5.67546971e-02 -1.49421627e-02  7.89983496e-02\n",
      "  3.16484869e-02  4.77786036e-03  5.37764281e-02  7.17272982e-02\n",
      "  2.71969521e-03 -3.02259065e-02 -1.08932137e-01 -2.89373808e-02\n",
      "  3.46224792e-02  8.04546103e-03  6.24088161e-02 -1.07919788e-02\n",
      " -8.19434822e-02 -3.23468409e-02  1.59499925e-02  7.47883543e-02\n",
      " -7.49314576e-02 -2.97053307e-02 -4.80450131e-02  7.98008740e-02\n",
      " -3.09541309e-03 -5.07277623e-03  1.88748278e-02 -5.35271689e-02\n",
      "  1.01081410e-03 -2.33915150e-02 -3.58008705e-02 -2.99916929e-03\n",
      "  3.38701457e-02  9.38990526e-03 -2.97568981e-02 -1.78304585e-33\n",
      " -2.31088493e-02  4.20501281e-04 -4.21425849e-02  2.03760210e-02\n",
      "  1.73990075e-02 -9.85750481e-02  7.28885233e-02  6.79192245e-02\n",
      " -1.07712727e-02 -7.71125853e-02 -6.54380247e-02 -8.59915838e-03\n",
      " -3.66039388e-02 -1.14964284e-02  7.05328509e-02 -1.32829649e-02\n",
      "  3.88884358e-02  9.05433893e-02 -5.21657802e-02  4.42759618e-02\n",
      " -1.51497340e-02 -1.40249297e-01 -8.47458318e-02 -6.26352653e-02\n",
      "  2.25926414e-02  1.02358118e-01  5.75379133e-02 -9.41718146e-02\n",
      "  4.75538895e-02  7.91854560e-02 -2.87650619e-02 -3.11786663e-02\n",
      " -2.56060287e-02 -3.84757877e-03 -7.05747828e-02 -1.83168370e-02\n",
      "  2.48614941e-02 -8.17419291e-02 -2.40075439e-02 -6.30251691e-02\n",
      "  8.00139562e-04  1.91346537e-02  4.36003134e-02 -2.53360830e-02\n",
      "  6.37851306e-04  9.48431045e-02 -2.10549943e-02  3.81383114e-02\n",
      " -7.91708753e-03  4.84917052e-02  5.44799864e-02  5.85053340e-02\n",
      " -4.09339294e-02  1.51349947e-01  6.64539495e-03 -3.88135016e-02\n",
      "  3.21821384e-02  2.69315597e-02 -8.85649696e-02 -4.08719480e-02\n",
      " -1.45499110e-02  8.03369004e-03  1.33594647e-02  5.48058264e-02\n",
      "  1.97834186e-02  1.00235552e-01  3.19490880e-02  3.07016149e-02\n",
      "  7.31698424e-02 -8.63890573e-02  1.05200280e-02  6.59484938e-02\n",
      " -1.48437899e-02 -1.36537226e-02 -2.55582165e-02  6.91987798e-02\n",
      " -2.90080737e-02  9.01211519e-03 -5.94067425e-02  6.94562420e-02\n",
      "  3.08603738e-02  3.23949493e-02 -2.75903977e-02 -6.00647507e-03\n",
      " -3.45620066e-02 -8.70408863e-02 -1.87792312e-02  4.24106270e-02\n",
      "  8.62072855e-02 -2.26647332e-02  2.77282372e-02 -5.87778515e-04\n",
      " -1.03692725e-01  5.54656535e-02 -5.90545237e-02 -4.25236699e-08\n",
      " -6.94142431e-02 -4.59741242e-02 -1.64007880e-02 -6.14745030e-03\n",
      " -1.14316111e-02 -7.37299770e-02  6.93490217e-03  7.54211619e-02\n",
      "  3.64586189e-02  1.56080015e-02  2.50685420e-02 -2.46584346e-03\n",
      " -7.30531737e-02 -3.96037139e-02 -1.47437472e-02 -2.71191690e-02\n",
      " -5.91261014e-02  5.78553826e-02  2.95394510e-02 -4.94459793e-02\n",
      " -4.02694605e-02 -1.73663739e-02 -2.67649372e-03 -8.05450324e-03\n",
      " -1.09993264e-01 -1.79025922e-02 -6.06081076e-02  4.98438329e-02\n",
      "  1.32323438e-02 -9.02441368e-02  5.37387729e-02  4.38538454e-02\n",
      "  6.37355400e-03  9.96178910e-02 -1.03717810e-02  1.12097673e-02\n",
      " -1.23670837e-02 -6.85389265e-02  6.51389137e-02  1.95788667e-02\n",
      "  2.66970769e-02 -9.10979602e-03  7.21644834e-02  8.27781577e-03\n",
      "  5.53913191e-02  1.79527216e-02  8.16054270e-02  6.93102926e-02\n",
      "  9.89756659e-02  8.87479912e-03 -5.25877513e-02  3.04629616e-02\n",
      "  3.13562043e-02  1.00017944e-02  2.81986278e-02  4.18204442e-02\n",
      " -1.90874487e-02 -6.66844025e-02  3.96942571e-02  1.15108897e-03\n",
      " -1.66207273e-02  4.69996361e-03  8.36223364e-02  2.51087658e-02]\n"
     ]
    }
   ],
   "source": [
    "i = 1\n",
    "print(chunk_list[i])\n",
    "print(embeddings[i])"
   ]
  },
  {
   "cell_type": "code",
   "execution_count": 10,
   "metadata": {},
   "outputs": [
    {
     "data": {
      "text/plain": [
       "numpy.ndarray"
      ]
     },
     "execution_count": 10,
     "metadata": {},
     "output_type": "execute_result"
    }
   ],
   "source": [
    "type(embeddings)"
   ]
  },
  {
   "cell_type": "code",
   "execution_count": 11,
   "metadata": {},
   "outputs": [],
   "source": [
    "np.savez_compressed('compressed_array.npz', array_data=embeddings)"
   ]
  },
  {
   "cell_type": "code",
   "execution_count": 12,
   "metadata": {},
   "outputs": [
    {
     "name": "stdout",
     "output_type": "stream",
     "text": [
      "File size: 20.041292190551758 MB\n"
     ]
    }
   ],
   "source": [
    "import os\n",
    "\n",
    "# Get the size of the file in bytes\n",
    "file_size_bytes = os.path.getsize('compressed_array.npz')\n",
    "\n",
    "# Convert bytes to megabytes\n",
    "file_size_mb = file_size_bytes / (1024 * 1024)\n",
    "\n",
    "print(\"File size:\", file_size_mb, \"MB\")"
   ]
  },
  {
   "cell_type": "code",
   "execution_count": 13,
   "metadata": {},
   "outputs": [
    {
     "data": {
      "text/plain": [
       "(14756, 384)"
      ]
     },
     "execution_count": 13,
     "metadata": {},
     "output_type": "execute_result"
    }
   ],
   "source": [
    "loaded_embeddings = np.load('compressed_array.npz')\n",
    "\n",
    "# Access the array by the name you specified ('my_array' in this case)\n",
    "loaded_embeddings = loaded_embeddings['array_data']\n",
    "\n",
    "loaded_embeddings.shape"
   ]
  },
  {
   "cell_type": "code",
   "execution_count": 14,
   "metadata": {},
   "outputs": [],
   "source": [
    "paras_data.to_csv('compressed_dataframe.csv.gz', compression='gzip', index=False)"
   ]
  },
  {
   "cell_type": "code",
   "execution_count": 15,
   "metadata": {},
   "outputs": [
    {
     "name": "stdout",
     "output_type": "stream",
     "text": [
      "(14756, 3)\n"
     ]
    },
    {
     "data": {
      "text/html": [
       "<div>\n",
       "<style scoped>\n",
       "    .dataframe tbody tr th:only-of-type {\n",
       "        vertical-align: middle;\n",
       "    }\n",
       "\n",
       "    .dataframe tbody tr th {\n",
       "        vertical-align: top;\n",
       "    }\n",
       "\n",
       "    .dataframe thead th {\n",
       "        text-align: right;\n",
       "    }\n",
       "</style>\n",
       "<table border=\"1\" class=\"dataframe\">\n",
       "  <thead>\n",
       "    <tr style=\"text-align: right;\">\n",
       "      <th></th>\n",
       "      <th>id</th>\n",
       "      <th>theme</th>\n",
       "      <th>paragraph</th>\n",
       "    </tr>\n",
       "  </thead>\n",
       "  <tbody>\n",
       "    <tr>\n",
       "      <th>0</th>\n",
       "      <td>1</td>\n",
       "      <td>Zhejiang</td>\n",
       "      <td>Zhejiang (help·info), formerly romanized as Ch...</td>\n",
       "    </tr>\n",
       "    <tr>\n",
       "      <th>1</th>\n",
       "      <td>2</td>\n",
       "      <td>Zhejiang</td>\n",
       "      <td>The province\\'s name derives from the Zhe Rive...</td>\n",
       "    </tr>\n",
       "  </tbody>\n",
       "</table>\n",
       "</div>"
      ],
      "text/plain": [
       "   id     theme                                          paragraph\n",
       "0   1  Zhejiang  Zhejiang (help·info), formerly romanized as Ch...\n",
       "1   2  Zhejiang  The province\\'s name derives from the Zhe Rive..."
      ]
     },
     "execution_count": 15,
     "metadata": {},
     "output_type": "execute_result"
    }
   ],
   "source": [
    "df = pd.read_csv('compressed_dataframe.csv.gz', compression='gzip')\n",
    "\n",
    "print(df.shape)\n",
    "\n",
    "df.head(2)"
   ]
  },
  {
   "cell_type": "code",
   "execution_count": 16,
   "metadata": {},
   "outputs": [
    {
     "data": {
      "text/plain": [
       "True"
      ]
     },
     "execution_count": 16,
     "metadata": {},
     "output_type": "execute_result"
    }
   ],
   "source": [
    "import faiss\n",
    "\n",
    "embed_length = embeddings.shape[1]\n",
    "\n",
    "index = faiss.IndexFlatL2(embed_length)\n",
    "\n",
    "# Check if the index is trained.\n",
    "# No training needed when using greedy search i.e. IndexFlatL2\n",
    "index.is_trained"
   ]
  },
  {
   "cell_type": "code",
   "execution_count": 17,
   "metadata": {},
   "outputs": [
    {
     "data": {
      "text/plain": [
       "14756"
      ]
     },
     "execution_count": 17,
     "metadata": {},
     "output_type": "execute_result"
    }
   ],
   "source": [
    "# Add the embeddings to the index\n",
    "\n",
    "index.add(embeddings)\n",
    "\n",
    "# Check the total number of embeddings in the index\n",
    "index.ntotal"
   ]
  },
  {
   "cell_type": "code",
   "execution_count": 18,
   "metadata": {},
   "outputs": [
    {
     "name": "stdout",
     "output_type": "stream",
     "text": [
      "[[2070 2071 2058]]\n",
      "[[0.50022537 0.58022213 0.7976825 ]]\n"
     ]
    }
   ],
   "source": [
    "# Run a query\n",
    "\n",
    "query_text = \"\"\"\n",
    "Is New Mexico's language different than from other Spanish dialect.\n",
    "\"\"\"\n",
    "query = [query_text]\n",
    "\n",
    "\n",
    "# Vectorize the query string\n",
    "query_embedding = model.encode(query)\n",
    "\n",
    "# Set the number of outputs we want\n",
    "top_k = 3\n",
    "\n",
    "# Run the query\n",
    "# index_vals refers to the chunk_list index values\n",
    "scores, index_vals = index.search(query_embedding, top_k)\n",
    "\n",
    "print(index_vals)\n",
    "print(scores)"
   ]
  },
  {
   "cell_type": "code",
   "execution_count": 19,
   "metadata": {},
   "outputs": [
    {
     "data": {
      "text/plain": [
       "\"New Mexico is commonly thought to have Spanish as an official language alongside English because of its wide usage and legal promotion of Spanish in the state; however, the state has no official language. New Mexico\\\\'s laws are promulgated bilingually in Spanish and English. Although English is the state government\\\\'s paper working language, government business is often conducted in Spanish, particularly at the local level. Spanish has been spoken in the New Mexico-Colorado border and the contemporary U.S.–Mexico border since the 16th century.[citation needed]\""
      ]
     },
     "execution_count": 19,
     "metadata": {},
     "output_type": "execute_result"
    }
   ],
   "source": [
    "pred_indexes = index_vals[0]\n",
    "\n",
    "i = 0\n",
    "chunk_index = pred_indexes[i]\n",
    "text = chunk_list[chunk_index]\n",
    "\n",
    "text"
   ]
  },
  {
   "cell_type": "code",
   "execution_count": 20,
   "metadata": {},
   "outputs": [],
   "source": [
    "num_centroids = 5\n",
    "\n",
    "quantizer = faiss.IndexFlatL2(embed_length)\n",
    "\n",
    "index = faiss.IndexIVFFlat(quantizer, embed_length, num_centroids)"
   ]
  },
  {
   "cell_type": "code",
   "execution_count": 21,
   "metadata": {},
   "outputs": [
    {
     "data": {
      "text/plain": [
       "True"
      ]
     },
     "execution_count": 21,
     "metadata": {},
     "output_type": "execute_result"
    }
   ],
   "source": [
    "index.train(embeddings)\n",
    "\n",
    "index.is_trained"
   ]
  },
  {
   "cell_type": "code",
   "execution_count": 22,
   "metadata": {},
   "outputs": [
    {
     "data": {
      "text/plain": [
       "14756"
      ]
     },
     "execution_count": 22,
     "metadata": {},
     "output_type": "execute_result"
    }
   ],
   "source": [
    "index.add(embeddings)\n",
    "\n",
    "# Check how many embeddings are in the index\n",
    "index.ntotal"
   ]
  },
  {
   "cell_type": "code",
   "execution_count": 23,
   "metadata": {},
   "outputs": [
    {
     "name": "stdout",
     "output_type": "stream",
     "text": [
      "[[2070 2068 8203 6358 2054]]\n",
      "[[0.50022537 0.84016275 0.8448281  0.8652166  0.87949145]]\n"
     ]
    }
   ],
   "source": [
    "query = [query_text]\n",
    "query_embedding = model.encode(query)\n",
    "\n",
    "top_k = 5\n",
    "\n",
    "\n",
    "# Run the query\n",
    "# index_vals refers to the chunk_list index values\n",
    "scores, index_vals = index.search(query_embedding, top_k)\n",
    "\n",
    "print(index_vals)\n",
    "print(scores)"
   ]
  },
  {
   "cell_type": "code",
   "execution_count": 24,
   "metadata": {},
   "outputs": [
    {
     "data": {
      "text/plain": [
       "'The Miami area has a unique dialect, (commonly called the \\\\\"Miami accent\\\\\") which is widely spoken. The dialect developed among second- or third-generation Hispanics, including Cuban-Americans, whose first language was English (though some non-Hispanic white, black, and other races who were born and raised the Miami area tend to adopt it as well.) It is based on a fairly standard American accent but with some changes very similar to dialects in the Mid-Atlantic (especially the New York area dialect, Northern New Jersey English, and New York Latino English.) Unlike Virginia Piedmont, Coastal Southern American, and Northeast American dialects and Florida Cracker dialect (see section below), \\\\\"Miami accent\\\\\" is rhotic; it also incorporates a rhythm and pronunciation heavily influenced by Spanish (wherein rhythm is syllable-timed). However, this is a native dialect of English, not learner English or interlanguage; it is possible to differentiate this variety from an interlanguage spoken by second-language speakers in that \\\\\"Miami accent\\\\\" does not generally display the following features: there is no addition of /ɛ/ before initial consonant clusters with /s/, speakers do not confuse of /dʒ/ with /j/, (e.g., Yale with jail), and /r/ and /rr/ are pronounced as alveolar approximant [ɹ] instead of alveolar tap [ɾ] or alveolar trill [r] in Spanish.'"
      ]
     },
     "execution_count": 24,
     "metadata": {},
     "output_type": "execute_result"
    }
   ],
   "source": [
    "pred_indexes = index_vals[0]\n",
    "\n",
    "i = 3\n",
    "chunk_index = pred_indexes[i]\n",
    "text = chunk_list[chunk_index]\n",
    "\n",
    "text"
   ]
  },
  {
   "cell_type": "code",
   "execution_count": 25,
   "metadata": {},
   "outputs": [],
   "source": [
    "# So far we've just been searching the cell with \n",
    "# the nearest centroid.\n",
    "# Setting nprobe allows us to search more of\n",
    "# the nearest cells. e.g. nprobe = 4 means w will search 4 cells.\n",
    "# This can be done if we were not getting good results and wanted\n",
    "# to improve performance. The time taken also increases as we are\n",
    "# comparing to more vectors.\n",
    "\n",
    "index.nprobe = 4"
   ]
  },
  {
   "cell_type": "code",
   "execution_count": 26,
   "metadata": {},
   "outputs": [
    {
     "name": "stdout",
     "output_type": "stream",
     "text": [
      "[[2070 2071 2058 2068 8203]]\n",
      "[[0.50022537 0.58022213 0.7976825  0.84016275 0.8448281 ]]\n"
     ]
    }
   ],
   "source": [
    "query = [query_text]\n",
    "query_embedding = model.encode(query)\n",
    "\n",
    "top_k = 5\n",
    "\n",
    "# Run the query\n",
    "# index_vals refers to the chunk_list index values\n",
    "scores, index_vals = index.search(query_embedding, top_k)\n",
    "\n",
    "print(index_vals)\n",
    "print(scores)"
   ]
  },
  {
   "cell_type": "code",
   "execution_count": 27,
   "metadata": {},
   "outputs": [
    {
     "data": {
      "text/plain": [
       "'Although the United States has no de jure official language, English is the dominant language of business, education, government, religion, media, culture, civil society, and the public sphere. Virtually all state and federal government agencies and large corporations use English as their internal working language, especially at the management level. Some states, such as New Mexico, provide bilingual legislated notices and official documents, in Spanish and English, and other commonly used languages. By 2015, there was a trend that most Americans and American residents who are of Hispanic descent speak only English in the home.'"
      ]
     },
     "execution_count": 27,
     "metadata": {},
     "output_type": "execute_result"
    }
   ],
   "source": [
    "pred_indexes = index_vals[0]\n",
    "\n",
    "i = 3\n",
    "chunk_index = pred_indexes[i]\n",
    "text = chunk_list[chunk_index]\n",
    "\n",
    "text"
   ]
  },
  {
   "cell_type": "code",
   "execution_count": 28,
   "metadata": {},
   "outputs": [],
   "source": [
    "from sentence_transformers import CrossEncoder\n",
    "\n",
    "# We use a cross-encoder to re-rank the results\n",
    "cross_encoder = CrossEncoder('cross-encoder/ms-marco-MiniLM-L-6-v2')"
   ]
  },
  {
   "cell_type": "code",
   "execution_count": 29,
   "metadata": {},
   "outputs": [
    {
     "data": {
      "text/plain": [
       "[2070, 2071, 2058, 2068, 8203, 6358, 2054, 2076, 2069, 2055]"
      ]
     },
     "execution_count": 29,
     "metadata": {},
     "output_type": "execute_result"
    }
   ],
   "source": [
    "query = [query_text]\n",
    "query_embedding = model.encode(query)\n",
    "\n",
    "top_k = 10\n",
    "D, I = index.search(query_embedding, top_k)\n",
    "\n",
    "list(I[0])"
   ]
  },
  {
   "cell_type": "code",
   "execution_count": 30,
   "metadata": {},
   "outputs": [
    {
     "data": {
      "text/plain": [
       "\"New Mexico is commonly thought to have Spanish as an official language alongside English because of its wide usage and legal promotion of Spanish in the state; however, the state has no official language. New Mexico\\\\'s laws are promulgated bilingually in Spanish and English. Although English is the state government\\\\'s paper working language, government business is often conducted in Spanish, particularly at the local level. Spanish has been spoken in the New Mexico-Colorado border and the contemporary U.S.–Mexico border since the 16th century.[citation needed]\""
      ]
     },
     "execution_count": 30,
     "metadata": {},
     "output_type": "execute_result"
    }
   ],
   "source": [
    "pred_list = list(I[0])\n",
    "\n",
    "# Replace the chunk index values with the corresponding strings\n",
    "pred_strings_list = [chunk_list[item] for item in pred_list]\n",
    "\n",
    "pred_strings_list[0]"
   ]
  },
  {
   "cell_type": "code",
   "execution_count": 31,
   "metadata": {},
   "outputs": [],
   "source": [
    "cross_input_list = []\n",
    "\n",
    "for item in pred_strings_list:\n",
    "    \n",
    "    new_list = [query[0], item]\n",
    "    \n",
    "    cross_input_list.append(new_list)"
   ]
  },
  {
   "cell_type": "code",
   "execution_count": 32,
   "metadata": {},
   "outputs": [
    {
     "data": {
      "text/plain": [
       "[\"\\nIs New Mexico's language different than from other Spanish dialect.\\n\",\n",
       " 'After the Mexican War of Independence from Spain also, California, Nevada, Arizona, Utah, western Colorado and southwestern Wyoming became part of the Mexican territory of Alta California and most of New Mexico, western Texas, southern Colorado, southwestern Kansas, and Oklahoma panhandle were part of the territory of Santa Fe de Nuevo México. The geographical isolation and unique political history of this territory led to New Mexican Spanish differing notably from both Spanish spoken in other parts of the United States of America and Spanish spoken in the present-day United Mexican States.']"
      ]
     },
     "execution_count": 32,
     "metadata": {},
     "output_type": "execute_result"
    }
   ],
   "source": [
    "cross_input_list[2]"
   ]
  },
  {
   "cell_type": "code",
   "execution_count": 33,
   "metadata": {},
   "outputs": [
    {
     "data": {
      "text/html": [
       "<div>\n",
       "<style scoped>\n",
       "    .dataframe tbody tr th:only-of-type {\n",
       "        vertical-align: middle;\n",
       "    }\n",
       "\n",
       "    .dataframe tbody tr th {\n",
       "        vertical-align: top;\n",
       "    }\n",
       "\n",
       "    .dataframe thead th {\n",
       "        text-align: right;\n",
       "    }\n",
       "</style>\n",
       "<table border=\"1\" class=\"dataframe\">\n",
       "  <thead>\n",
       "    <tr style=\"text-align: right;\">\n",
       "      <th></th>\n",
       "      <th>query_text</th>\n",
       "      <th>pred_text</th>\n",
       "      <th>original_index</th>\n",
       "    </tr>\n",
       "  </thead>\n",
       "  <tbody>\n",
       "    <tr>\n",
       "      <th>0</th>\n",
       "      <td>\\nIs New Mexico's language different than from...</td>\n",
       "      <td>New Mexico is commonly thought to have Spanish...</td>\n",
       "      <td>2070</td>\n",
       "    </tr>\n",
       "    <tr>\n",
       "      <th>1</th>\n",
       "      <td>\\nIs New Mexico's language different than from...</td>\n",
       "      <td>Because of its relative isolation from other S...</td>\n",
       "      <td>2071</td>\n",
       "    </tr>\n",
       "    <tr>\n",
       "      <th>2</th>\n",
       "      <td>\\nIs New Mexico's language different than from...</td>\n",
       "      <td>After the Mexican War of Independence from Spa...</td>\n",
       "      <td>2058</td>\n",
       "    </tr>\n",
       "    <tr>\n",
       "      <th>3</th>\n",
       "      <td>\\nIs New Mexico's language different than from...</td>\n",
       "      <td>Although the United States has no de jure offi...</td>\n",
       "      <td>2068</td>\n",
       "    </tr>\n",
       "    <tr>\n",
       "      <th>4</th>\n",
       "      <td>\\nIs New Mexico's language different than from...</td>\n",
       "      <td>The \\\"General Law of Linguistic Rights of the ...</td>\n",
       "      <td>8203</td>\n",
       "    </tr>\n",
       "  </tbody>\n",
       "</table>\n",
       "</div>"
      ],
      "text/plain": [
       "                                          query_text  \\\n",
       "0  \\nIs New Mexico's language different than from...   \n",
       "1  \\nIs New Mexico's language different than from...   \n",
       "2  \\nIs New Mexico's language different than from...   \n",
       "3  \\nIs New Mexico's language different than from...   \n",
       "4  \\nIs New Mexico's language different than from...   \n",
       "\n",
       "                                           pred_text  original_index  \n",
       "0  New Mexico is commonly thought to have Spanish...            2070  \n",
       "1  Because of its relative isolation from other S...            2071  \n",
       "2  After the Mexican War of Independence from Spa...            2058  \n",
       "3  Although the United States has no de jure offi...            2068  \n",
       "4  The \\\"General Law of Linguistic Rights of the ...            8203  "
      ]
     },
     "execution_count": 33,
     "metadata": {},
     "output_type": "execute_result"
    }
   ],
   "source": [
    "df = pd.DataFrame(cross_input_list, columns=['query_text', 'pred_text'])\n",
    "df['original_index'] = I[0]\n",
    "\n",
    "df.head()"
   ]
  },
  {
   "cell_type": "code",
   "execution_count": 34,
   "metadata": {},
   "outputs": [
    {
     "data": {
      "text/plain": [
       "array([ 7.55848   ,  6.981863  ,  2.6883073 ,  2.1346889 ,  1.6300517 ,\n",
       "        0.07660613,  0.8244037 , -1.7556887 ,  1.9220995 ,  1.4239975 ],\n",
       "      dtype=float32)"
      ]
     },
     "execution_count": 34,
     "metadata": {},
     "output_type": "execute_result"
    }
   ],
   "source": [
    "cross_scores = cross_encoder.predict(cross_input_list)\n",
    "\n",
    "cross_scores"
   ]
  },
  {
   "cell_type": "code",
   "execution_count": 35,
   "metadata": {},
   "outputs": [
    {
     "data": {
      "text/html": [
       "<div>\n",
       "<style scoped>\n",
       "    .dataframe tbody tr th:only-of-type {\n",
       "        vertical-align: middle;\n",
       "    }\n",
       "\n",
       "    .dataframe tbody tr th {\n",
       "        vertical-align: top;\n",
       "    }\n",
       "\n",
       "    .dataframe thead th {\n",
       "        text-align: right;\n",
       "    }\n",
       "</style>\n",
       "<table border=\"1\" class=\"dataframe\">\n",
       "  <thead>\n",
       "    <tr style=\"text-align: right;\">\n",
       "      <th></th>\n",
       "      <th>query_text</th>\n",
       "      <th>pred_text</th>\n",
       "      <th>original_index</th>\n",
       "      <th>cross_scores</th>\n",
       "    </tr>\n",
       "  </thead>\n",
       "  <tbody>\n",
       "    <tr>\n",
       "      <th>0</th>\n",
       "      <td>\\nIs New Mexico's language different than from...</td>\n",
       "      <td>New Mexico is commonly thought to have Spanish...</td>\n",
       "      <td>2070</td>\n",
       "      <td>7.558480</td>\n",
       "    </tr>\n",
       "    <tr>\n",
       "      <th>1</th>\n",
       "      <td>\\nIs New Mexico's language different than from...</td>\n",
       "      <td>Because of its relative isolation from other S...</td>\n",
       "      <td>2071</td>\n",
       "      <td>6.981863</td>\n",
       "    </tr>\n",
       "    <tr>\n",
       "      <th>2</th>\n",
       "      <td>\\nIs New Mexico's language different than from...</td>\n",
       "      <td>After the Mexican War of Independence from Spa...</td>\n",
       "      <td>2058</td>\n",
       "      <td>2.688307</td>\n",
       "    </tr>\n",
       "    <tr>\n",
       "      <th>3</th>\n",
       "      <td>\\nIs New Mexico's language different than from...</td>\n",
       "      <td>Although the United States has no de jure offi...</td>\n",
       "      <td>2068</td>\n",
       "      <td>2.134689</td>\n",
       "    </tr>\n",
       "    <tr>\n",
       "      <th>4</th>\n",
       "      <td>\\nIs New Mexico's language different than from...</td>\n",
       "      <td>The \\\"General Law of Linguistic Rights of the ...</td>\n",
       "      <td>8203</td>\n",
       "      <td>1.630052</td>\n",
       "    </tr>\n",
       "  </tbody>\n",
       "</table>\n",
       "</div>"
      ],
      "text/plain": [
       "                                          query_text  \\\n",
       "0  \\nIs New Mexico's language different than from...   \n",
       "1  \\nIs New Mexico's language different than from...   \n",
       "2  \\nIs New Mexico's language different than from...   \n",
       "3  \\nIs New Mexico's language different than from...   \n",
       "4  \\nIs New Mexico's language different than from...   \n",
       "\n",
       "                                           pred_text  original_index  \\\n",
       "0  New Mexico is commonly thought to have Spanish...            2070   \n",
       "1  Because of its relative isolation from other S...            2071   \n",
       "2  After the Mexican War of Independence from Spa...            2058   \n",
       "3  Although the United States has no de jure offi...            2068   \n",
       "4  The \\\"General Law of Linguistic Rights of the ...            8203   \n",
       "\n",
       "   cross_scores  \n",
       "0      7.558480  \n",
       "1      6.981863  \n",
       "2      2.688307  \n",
       "3      2.134689  \n",
       "4      1.630052  "
      ]
     },
     "execution_count": 35,
     "metadata": {},
     "output_type": "execute_result"
    }
   ],
   "source": [
    "df['cross_scores'] = cross_scores\n",
    "\n",
    "df.head()"
   ]
  },
  {
   "cell_type": "code",
   "execution_count": 36,
   "metadata": {},
   "outputs": [
    {
     "data": {
      "text/html": [
       "<div>\n",
       "<style scoped>\n",
       "    .dataframe tbody tr th:only-of-type {\n",
       "        vertical-align: middle;\n",
       "    }\n",
       "\n",
       "    .dataframe tbody tr th {\n",
       "        vertical-align: top;\n",
       "    }\n",
       "\n",
       "    .dataframe thead th {\n",
       "        text-align: right;\n",
       "    }\n",
       "</style>\n",
       "<table border=\"1\" class=\"dataframe\">\n",
       "  <thead>\n",
       "    <tr style=\"text-align: right;\">\n",
       "      <th></th>\n",
       "      <th>query_text</th>\n",
       "      <th>pred_text</th>\n",
       "      <th>original_index</th>\n",
       "      <th>cross_scores</th>\n",
       "    </tr>\n",
       "  </thead>\n",
       "  <tbody>\n",
       "    <tr>\n",
       "      <th>0</th>\n",
       "      <td>\\nIs New Mexico's language different than from...</td>\n",
       "      <td>New Mexico is commonly thought to have Spanish...</td>\n",
       "      <td>2070</td>\n",
       "      <td>7.558480</td>\n",
       "    </tr>\n",
       "    <tr>\n",
       "      <th>1</th>\n",
       "      <td>\\nIs New Mexico's language different than from...</td>\n",
       "      <td>Because of its relative isolation from other S...</td>\n",
       "      <td>2071</td>\n",
       "      <td>6.981863</td>\n",
       "    </tr>\n",
       "    <tr>\n",
       "      <th>2</th>\n",
       "      <td>\\nIs New Mexico's language different than from...</td>\n",
       "      <td>After the Mexican War of Independence from Spa...</td>\n",
       "      <td>2058</td>\n",
       "      <td>2.688307</td>\n",
       "    </tr>\n",
       "    <tr>\n",
       "      <th>3</th>\n",
       "      <td>\\nIs New Mexico's language different than from...</td>\n",
       "      <td>Although the United States has no de jure offi...</td>\n",
       "      <td>2068</td>\n",
       "      <td>2.134689</td>\n",
       "    </tr>\n",
       "    <tr>\n",
       "      <th>4</th>\n",
       "      <td>\\nIs New Mexico's language different than from...</td>\n",
       "      <td>The state (like its southwestern neighbors) ha...</td>\n",
       "      <td>2069</td>\n",
       "      <td>1.922099</td>\n",
       "    </tr>\n",
       "    <tr>\n",
       "      <th>5</th>\n",
       "      <td>\\nIs New Mexico's language different than from...</td>\n",
       "      <td>The \\\"General Law of Linguistic Rights of the ...</td>\n",
       "      <td>8203</td>\n",
       "      <td>1.630052</td>\n",
       "    </tr>\n",
       "    <tr>\n",
       "      <th>6</th>\n",
       "      <td>\\nIs New Mexico's language different than from...</td>\n",
       "      <td>The Spanish language has been present in what ...</td>\n",
       "      <td>2055</td>\n",
       "      <td>1.423998</td>\n",
       "    </tr>\n",
       "    <tr>\n",
       "      <th>7</th>\n",
       "      <td>\\nIs New Mexico's language different than from...</td>\n",
       "      <td>The Spanish language is the second most spoken...</td>\n",
       "      <td>2054</td>\n",
       "      <td>0.824404</td>\n",
       "    </tr>\n",
       "    <tr>\n",
       "      <th>8</th>\n",
       "      <td>\\nIs New Mexico's language different than from...</td>\n",
       "      <td>The Miami area has a unique dialect, (commonly...</td>\n",
       "      <td>6358</td>\n",
       "      <td>0.076606</td>\n",
       "    </tr>\n",
       "    <tr>\n",
       "      <th>9</th>\n",
       "      <td>\\nIs New Mexico's language different than from...</td>\n",
       "      <td>After the incorporation of these states to the...</td>\n",
       "      <td>2076</td>\n",
       "      <td>-1.755689</td>\n",
       "    </tr>\n",
       "  </tbody>\n",
       "</table>\n",
       "</div>"
      ],
      "text/plain": [
       "                                          query_text  \\\n",
       "0  \\nIs New Mexico's language different than from...   \n",
       "1  \\nIs New Mexico's language different than from...   \n",
       "2  \\nIs New Mexico's language different than from...   \n",
       "3  \\nIs New Mexico's language different than from...   \n",
       "4  \\nIs New Mexico's language different than from...   \n",
       "5  \\nIs New Mexico's language different than from...   \n",
       "6  \\nIs New Mexico's language different than from...   \n",
       "7  \\nIs New Mexico's language different than from...   \n",
       "8  \\nIs New Mexico's language different than from...   \n",
       "9  \\nIs New Mexico's language different than from...   \n",
       "\n",
       "                                           pred_text  original_index  \\\n",
       "0  New Mexico is commonly thought to have Spanish...            2070   \n",
       "1  Because of its relative isolation from other S...            2071   \n",
       "2  After the Mexican War of Independence from Spa...            2058   \n",
       "3  Although the United States has no de jure offi...            2068   \n",
       "4  The state (like its southwestern neighbors) ha...            2069   \n",
       "5  The \\\"General Law of Linguistic Rights of the ...            8203   \n",
       "6  The Spanish language has been present in what ...            2055   \n",
       "7  The Spanish language is the second most spoken...            2054   \n",
       "8  The Miami area has a unique dialect, (commonly...            6358   \n",
       "9  After the incorporation of these states to the...            2076   \n",
       "\n",
       "   cross_scores  \n",
       "0      7.558480  \n",
       "1      6.981863  \n",
       "2      2.688307  \n",
       "3      2.134689  \n",
       "4      1.922099  \n",
       "5      1.630052  \n",
       "6      1.423998  \n",
       "7      0.824404  \n",
       "8      0.076606  \n",
       "9     -1.755689  "
      ]
     },
     "execution_count": 36,
     "metadata": {},
     "output_type": "execute_result"
    }
   ],
   "source": [
    "df_sorted = df.sort_values(by='cross_scores', ascending=False)\n",
    "\n",
    "# Reset the index (*This was missed previously*)\n",
    "df_sorted = df_sorted.reset_index(drop=True)\n",
    "\n",
    "df_sorted.head(10)"
   ]
  },
  {
   "cell_type": "code",
   "execution_count": 37,
   "metadata": {},
   "outputs": [
    {
     "name": "stdout",
     "output_type": "stream",
     "text": [
      "Original order: [2070 2071 2058 2068 8203 6358 2054 2076 2069 2055]\n",
      "Reranked order: [2070, 2071, 2058, 2068, 2069, 8203, 2055, 2054, 6358, 2076]\n"
     ]
    }
   ],
   "source": [
    "print('Original order:',I[0])\n",
    "print('Reranked order:',list(df_sorted['original_index']))"
   ]
  },
  {
   "cell_type": "code",
   "execution_count": 38,
   "metadata": {},
   "outputs": [
    {
     "name": "stdout",
     "output_type": "stream",
     "text": [
      "Paragraph: New Mexico is commonly thought to have Spanish as an official language alongside English because of its wide usage and legal promotion of Spanish in the state; however, the state has no official language. New Mexico\\'s laws are promulgated bilingually in Spanish and English. Although English is the state government\\'s paper working language, government business is often conducted in Spanish, particularly at the local level. Spanish has been spoken in the New Mexico-Colorado border and the contemporary U.S.–Mexico border since the 16th century.[citation needed]\n",
      "\n",
      "Paragraph: Because of its relative isolation from other Spanish-speaking areas over most of its 400-year existence, New Mexico Spanish, and in particular the Spanish of northern New Mexico and Colorado has retained many elements of 16th- and 17th-century Spanish and has developed its own vocabulary. In addition, it contains many words from Nahuatl, the language spoken by the ancient Aztecs of Mexico. New Mexican Spanish also contains loan words from the Pueblo languages of the upper Rio Grande Valley, Mexican-Spanish words (mexicanismos), and borrowings from English. Grammatical changes include the loss of the second person verb form, changes in verb endings, particularly in the preterite, and partial merging of the second and third conjugations.\n",
      "\n",
      "Paragraph: After the Mexican War of Independence from Spain also, California, Nevada, Arizona, Utah, western Colorado and southwestern Wyoming became part of the Mexican territory of Alta California and most of New Mexico, western Texas, southern Colorado, southwestern Kansas, and Oklahoma panhandle were part of the territory of Santa Fe de Nuevo México. The geographical isolation and unique political history of this territory led to New Mexican Spanish differing notably from both Spanish spoken in other parts of the United States of America and Spanish spoken in the present-day United Mexican States.\n",
      "\n"
     ]
    }
   ],
   "source": [
    "num_results = 3\n",
    "\n",
    "for i in range(0,num_results):\n",
    "    \n",
    "    text = df_sorted.loc[i, 'pred_text']\n",
    "    print('Paragraph:',text)\n",
    "    print()"
   ]
  },
  {
   "cell_type": "code",
   "execution_count": null,
   "metadata": {},
   "outputs": [],
   "source": []
  }
 ],
 "metadata": {
  "kernelspec": {
   "display_name": "Python 3",
   "language": "python",
   "name": "python3"
  },
  "language_info": {
   "codemirror_mode": {
    "name": "ipython",
    "version": 3
   },
   "file_extension": ".py",
   "mimetype": "text/x-python",
   "name": "python",
   "nbconvert_exporter": "python",
   "pygments_lexer": "ipython3",
   "version": "3.10.12"
  }
 },
 "nbformat": 4,
 "nbformat_minor": 2
}
